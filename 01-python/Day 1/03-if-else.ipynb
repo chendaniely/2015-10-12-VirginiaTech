{
 "cells": [
  {
   "cell_type": "code",
   "execution_count": 1,
   "metadata": {
    "collapsed": true
   },
   "outputs": [],
   "source": [
    "num = 53\n",
    "if num > 100:\n",
    "    print(\"greater than 100\")"
   ]
  },
  {
   "cell_type": "code",
   "execution_count": 3,
   "metadata": {
    "collapsed": false
   },
   "outputs": [
    {
     "name": "stdout",
     "output_type": "stream",
     "text": [
      "less than 100\n"
     ]
    }
   ],
   "source": [
    "num = 53\n",
    "if num < 100:\n",
    "    print(\"less than 100\")"
   ]
  },
  {
   "cell_type": "code",
   "execution_count": 4,
   "metadata": {
    "collapsed": false
   },
   "outputs": [
    {
     "name": "stdout",
     "output_type": "stream",
     "text": [
      "greater than zero\n",
      "greater than 50\n"
     ]
    }
   ],
   "source": [
    "num = 53\n",
    "\n",
    "if num > 0:\n",
    "    print('greater than zero')\n",
    "if num > 50:\n",
    "    print('greater than 50')\n",
    "if num > 100:\n",
    "    print('greater than 100')"
   ]
  },
  {
   "cell_type": "code",
   "execution_count": 5,
   "metadata": {
    "collapsed": false
   },
   "outputs": [
    {
     "name": "stdout",
     "output_type": "stream",
     "text": [
      "greater than zero\n"
     ]
    }
   ],
   "source": [
    "num = 53\n",
    "\n",
    "if num > 0:\n",
    "    print('greater than zero')\n",
    "elif num > 50:\n",
    "    print('greater than 50')\n",
    "elif num > 100:\n",
    "    print('greater than 100')"
   ]
  },
  {
   "cell_type": "code",
   "execution_count": 6,
   "metadata": {
    "collapsed": false
   },
   "outputs": [
    {
     "name": "stdout",
     "output_type": "stream",
     "text": [
      "greater than 50\n"
     ]
    }
   ],
   "source": [
    "num = 53\n",
    "\n",
    "if num > 100:\n",
    "    print('greater than 100')\n",
    "elif num > 50:\n",
    "    print('greater than 50')\n",
    "elif num > 0:\n",
    "    print('greater than 0')"
   ]
  },
  {
   "cell_type": "code",
   "execution_count": 18,
   "metadata": {
    "collapsed": false
   },
   "outputs": [
    {
     "ename": "ValueError",
     "evalue": "",
     "output_type": "error",
     "traceback": [
      "\u001b[1;31m---------------------------------------------------------------------------\u001b[0m",
      "\u001b[1;31mValueError\u001b[0m                                Traceback (most recent call last)",
      "\u001b[1;32m<ipython-input-18-c3f21e89e41b>\u001b[0m in \u001b[0;36m<module>\u001b[1;34m()\u001b[0m\n\u001b[0;32m      8\u001b[0m     \u001b[0mprint\u001b[0m\u001b[1;33m(\u001b[0m\u001b[1;34m'greater than 0'\u001b[0m\u001b[1;33m)\u001b[0m\u001b[1;33m\u001b[0m\u001b[0m\n\u001b[0;32m      9\u001b[0m \u001b[1;32melse\u001b[0m\u001b[1;33m:\u001b[0m\u001b[1;33m\u001b[0m\u001b[0m\n\u001b[1;32m---> 10\u001b[1;33m     \u001b[1;32mraise\u001b[0m \u001b[0mValueError\u001b[0m\u001b[1;33m\u001b[0m\u001b[0m\n\u001b[0m\u001b[0;32m     11\u001b[0m     \u001b[0mprint\u001b[0m\u001b[1;33m(\u001b[0m\u001b[1;34m\"did not meet any requirements\"\u001b[0m\u001b[1;33m)\u001b[0m\u001b[1;33m\u001b[0m\u001b[0m\n",
      "\u001b[1;31mValueError\u001b[0m: "
     ]
    }
   ],
   "source": [
    "num = -10\n",
    "\n",
    "if num > 100:\n",
    "    print('greater than 100')\n",
    "elif num > 50:\n",
    "    print('greater than 50')\n",
    "elif num > 0:\n",
    "    print('greater than 0')\n",
    "else:\n",
    "    raise ValueError\n",
    "    print(\"did not meet any requirements\")"
   ]
  },
  {
   "cell_type": "code",
   "execution_count": 19,
   "metadata": {
    "collapsed": false
   },
   "outputs": [
    {
     "name": "stdout",
     "output_type": "stream",
     "text": [
      "name 'y' is not defined\n",
      "bad\n"
     ]
    }
   ],
   "source": [
    "try:\n",
    "    x = 3\n",
    "    x + y\n",
    "except NameError as e:\n",
    "    print(e)\n",
    "    print(\"bad\")\n"
   ]
  },
  {
   "cell_type": "code",
   "execution_count": null,
   "metadata": {
    "collapsed": true
   },
   "outputs": [],
   "source": []
  }
 ],
 "metadata": {
  "kernelspec": {
   "display_name": "Python 3",
   "language": "python",
   "name": "python3"
  },
  "language_info": {
   "codemirror_mode": {
    "name": "ipython",
    "version": 3
   },
   "file_extension": ".py",
   "mimetype": "text/x-python",
   "name": "python",
   "nbconvert_exporter": "python",
   "pygments_lexer": "ipython3",
   "version": "3.4.3"
  }
 },
 "nbformat": 4,
 "nbformat_minor": 0
}
